{
 "cells": [
  {
   "cell_type": "code",
   "execution_count": 2,
   "metadata": {},
   "outputs": [],
   "source": [
    "import pandas as pd"
   ]
  },
  {
   "cell_type": "code",
   "execution_count": 8,
   "metadata": {},
   "outputs": [
    {
     "data": {
      "text/html": [
       "<div>\n",
       "<style scoped>\n",
       "    .dataframe tbody tr th:only-of-type {\n",
       "        vertical-align: middle;\n",
       "    }\n",
       "\n",
       "    .dataframe tbody tr th {\n",
       "        vertical-align: top;\n",
       "    }\n",
       "\n",
       "    .dataframe thead th {\n",
       "        text-align: right;\n",
       "    }\n",
       "</style>\n",
       "<table border=\"1\" class=\"dataframe\">\n",
       "  <thead>\n",
       "    <tr style=\"text-align: right;\">\n",
       "      <th></th>\n",
       "      <th>trip_id</th>\n",
       "      <th>arrival_time</th>\n",
       "      <th>departure_time</th>\n",
       "      <th>stop_id</th>\n",
       "      <th>stop_sequence</th>\n",
       "      <th>stop_headsign</th>\n",
       "      <th>pickup_type</th>\n",
       "      <th>drop_off_type</th>\n",
       "      <th>timepoint</th>\n",
       "      <th>checkpoint_id</th>\n",
       "    </tr>\n",
       "  </thead>\n",
       "  <tbody>\n",
       "    <tr>\n",
       "      <td>0</td>\n",
       "      <td>42509838</td>\n",
       "      <td>24:30:00</td>\n",
       "      <td>24:30:00</td>\n",
       "      <td>70036</td>\n",
       "      <td>1</td>\n",
       "      <td>NaN</td>\n",
       "      <td>0</td>\n",
       "      <td>1</td>\n",
       "      <td>1.0</td>\n",
       "      <td>NaN</td>\n",
       "    </tr>\n",
       "    <tr>\n",
       "      <td>1</td>\n",
       "      <td>42509838</td>\n",
       "      <td>24:32:00</td>\n",
       "      <td>24:32:00</td>\n",
       "      <td>70034</td>\n",
       "      <td>10</td>\n",
       "      <td>NaN</td>\n",
       "      <td>0</td>\n",
       "      <td>0</td>\n",
       "      <td>1.0</td>\n",
       "      <td>NaN</td>\n",
       "    </tr>\n",
       "    <tr>\n",
       "      <td>2</td>\n",
       "      <td>42509838</td>\n",
       "      <td>24:35:00</td>\n",
       "      <td>24:35:00</td>\n",
       "      <td>70032</td>\n",
       "      <td>20</td>\n",
       "      <td>NaN</td>\n",
       "      <td>0</td>\n",
       "      <td>0</td>\n",
       "      <td>1.0</td>\n",
       "      <td>NaN</td>\n",
       "    </tr>\n",
       "    <tr>\n",
       "      <td>3</td>\n",
       "      <td>42509838</td>\n",
       "      <td>24:37:00</td>\n",
       "      <td>24:37:00</td>\n",
       "      <td>70278</td>\n",
       "      <td>30</td>\n",
       "      <td>NaN</td>\n",
       "      <td>0</td>\n",
       "      <td>0</td>\n",
       "      <td>1.0</td>\n",
       "      <td>NaN</td>\n",
       "    </tr>\n",
       "    <tr>\n",
       "      <td>4</td>\n",
       "      <td>42509838</td>\n",
       "      <td>24:40:00</td>\n",
       "      <td>24:40:00</td>\n",
       "      <td>70030</td>\n",
       "      <td>40</td>\n",
       "      <td>NaN</td>\n",
       "      <td>0</td>\n",
       "      <td>0</td>\n",
       "      <td>1.0</td>\n",
       "      <td>NaN</td>\n",
       "    </tr>\n",
       "  </tbody>\n",
       "</table>\n",
       "</div>"
      ],
      "text/plain": [
       "    trip_id arrival_time departure_time  stop_id  stop_sequence  \\\n",
       "0  42509838     24:30:00       24:30:00    70036              1   \n",
       "1  42509838     24:32:00       24:32:00    70034             10   \n",
       "2  42509838     24:35:00       24:35:00    70032             20   \n",
       "3  42509838     24:37:00       24:37:00    70278             30   \n",
       "4  42509838     24:40:00       24:40:00    70030             40   \n",
       "\n",
       "   stop_headsign  pickup_type  drop_off_type  timepoint  checkpoint_id  \n",
       "0            NaN            0              1        1.0            NaN  \n",
       "1            NaN            0              0        1.0            NaN  \n",
       "2            NaN            0              0        1.0            NaN  \n",
       "3            NaN            0              0        1.0            NaN  \n",
       "4            NaN            0              0        1.0            NaN  "
      ]
     },
     "execution_count": 8,
     "metadata": {},
     "output_type": "execute_result"
    }
   ],
   "source": [
    "df_stop = pd.read_csv(\"data/MBTA_GTFS/stop_times_trunc.txt\")\n",
    "df_stop.head()"
   ]
  },
  {
   "cell_type": "code",
   "execution_count": 12,
   "metadata": {},
   "outputs": [
    {
     "data": {
      "text/plain": [
       "105"
      ]
     },
     "execution_count": 12,
     "metadata": {},
     "output_type": "execute_result"
    }
   ],
   "source": [
    "len(df_stop.trip_id.unique())"
   ]
  },
  {
   "cell_type": "code",
   "execution_count": 13,
   "metadata": {},
   "outputs": [
    {
     "data": {
      "text/plain": [
       "44"
      ]
     },
     "execution_count": 13,
     "metadata": {},
     "output_type": "execute_result"
    }
   ],
   "source": [
    "len(df_stop.stop_id.unique())"
   ]
  },
  {
   "cell_type": "code",
   "execution_count": 3,
   "metadata": {},
   "outputs": [
    {
     "name": "stderr",
     "output_type": "stream",
     "text": [
      "/opt/anaconda3/lib/python3.7/site-packages/IPython/core/interactiveshell.py:3058: DtypeWarning: Columns (4) have mixed types. Specify dtype option on import or set low_memory=False.\n",
      "  interactivity=interactivity, compiler=compiler, result=result)\n"
     ]
    },
    {
     "data": {
      "text/html": [
       "<div>\n",
       "<style scoped>\n",
       "    .dataframe tbody tr th:only-of-type {\n",
       "        vertical-align: middle;\n",
       "    }\n",
       "\n",
       "    .dataframe tbody tr th {\n",
       "        vertical-align: top;\n",
       "    }\n",
       "\n",
       "    .dataframe thead th {\n",
       "        text-align: right;\n",
       "    }\n",
       "</style>\n",
       "<table border=\"1\" class=\"dataframe\">\n",
       "  <thead>\n",
       "    <tr style=\"text-align: right;\">\n",
       "      <th></th>\n",
       "      <th>route_id</th>\n",
       "      <th>service_id</th>\n",
       "      <th>trip_id</th>\n",
       "      <th>trip_headsign</th>\n",
       "      <th>trip_short_name</th>\n",
       "      <th>direction_id</th>\n",
       "      <th>block_id</th>\n",
       "      <th>shape_id</th>\n",
       "      <th>wheelchair_accessible</th>\n",
       "      <th>trip_route_type</th>\n",
       "      <th>route_pattern_id</th>\n",
       "      <th>bikes_allowed</th>\n",
       "    </tr>\n",
       "  </thead>\n",
       "  <tbody>\n",
       "    <tr>\n",
       "      <td>0</td>\n",
       "      <td>1</td>\n",
       "      <td>BUS12020-hbc10011-Wdy-02</td>\n",
       "      <td>42844652</td>\n",
       "      <td>Harvard</td>\n",
       "      <td>NaN</td>\n",
       "      <td>0</td>\n",
       "      <td>C01-10</td>\n",
       "      <td>010070</td>\n",
       "      <td>1</td>\n",
       "      <td>NaN</td>\n",
       "      <td>1-_-0</td>\n",
       "      <td>1</td>\n",
       "    </tr>\n",
       "    <tr>\n",
       "      <td>1</td>\n",
       "      <td>1</td>\n",
       "      <td>BUS12020-hbc10011-Wdy-02</td>\n",
       "      <td>42844654</td>\n",
       "      <td>Harvard</td>\n",
       "      <td>NaN</td>\n",
       "      <td>0</td>\n",
       "      <td>C01-10</td>\n",
       "      <td>010070</td>\n",
       "      <td>1</td>\n",
       "      <td>NaN</td>\n",
       "      <td>1-_-0</td>\n",
       "      <td>1</td>\n",
       "    </tr>\n",
       "    <tr>\n",
       "      <td>2</td>\n",
       "      <td>1</td>\n",
       "      <td>BUS12020-hbc10011-Wdy-02</td>\n",
       "      <td>42844656</td>\n",
       "      <td>Harvard</td>\n",
       "      <td>NaN</td>\n",
       "      <td>0</td>\n",
       "      <td>C01-14</td>\n",
       "      <td>010070</td>\n",
       "      <td>1</td>\n",
       "      <td>NaN</td>\n",
       "      <td>1-_-0</td>\n",
       "      <td>1</td>\n",
       "    </tr>\n",
       "    <tr>\n",
       "      <td>3</td>\n",
       "      <td>1</td>\n",
       "      <td>BUS12020-hbc10011-Wdy-02</td>\n",
       "      <td>42844657</td>\n",
       "      <td>Harvard</td>\n",
       "      <td>NaN</td>\n",
       "      <td>0</td>\n",
       "      <td>C01-14</td>\n",
       "      <td>010070</td>\n",
       "      <td>1</td>\n",
       "      <td>NaN</td>\n",
       "      <td>1-_-0</td>\n",
       "      <td>1</td>\n",
       "    </tr>\n",
       "    <tr>\n",
       "      <td>4</td>\n",
       "      <td>1</td>\n",
       "      <td>BUS12020-hbc10011-Wdy-02</td>\n",
       "      <td>42844658</td>\n",
       "      <td>Harvard</td>\n",
       "      <td>NaN</td>\n",
       "      <td>0</td>\n",
       "      <td>C01-10</td>\n",
       "      <td>010070</td>\n",
       "      <td>1</td>\n",
       "      <td>NaN</td>\n",
       "      <td>1-_-0</td>\n",
       "      <td>1</td>\n",
       "    </tr>\n",
       "  </tbody>\n",
       "</table>\n",
       "</div>"
      ],
      "text/plain": [
       "  route_id                service_id   trip_id trip_headsign trip_short_name  \\\n",
       "0        1  BUS12020-hbc10011-Wdy-02  42844652       Harvard             NaN   \n",
       "1        1  BUS12020-hbc10011-Wdy-02  42844654       Harvard             NaN   \n",
       "2        1  BUS12020-hbc10011-Wdy-02  42844656       Harvard             NaN   \n",
       "3        1  BUS12020-hbc10011-Wdy-02  42844657       Harvard             NaN   \n",
       "4        1  BUS12020-hbc10011-Wdy-02  42844658       Harvard             NaN   \n",
       "\n",
       "   direction_id block_id shape_id  wheelchair_accessible  trip_route_type  \\\n",
       "0             0   C01-10   010070                      1              NaN   \n",
       "1             0   C01-10   010070                      1              NaN   \n",
       "2             0   C01-14   010070                      1              NaN   \n",
       "3             0   C01-14   010070                      1              NaN   \n",
       "4             0   C01-10   010070                      1              NaN   \n",
       "\n",
       "  route_pattern_id  bikes_allowed  \n",
       "0            1-_-0              1  \n",
       "1            1-_-0              1  \n",
       "2            1-_-0              1  \n",
       "3            1-_-0              1  \n",
       "4            1-_-0              1  "
      ]
     },
     "execution_count": 3,
     "metadata": {},
     "output_type": "execute_result"
    }
   ],
   "source": [
    "df_trips = pd.read_csv(\"data/MBTA_GTFS/trips.txt\")\n",
    "df_trips.head()"
   ]
  },
  {
   "cell_type": "code",
   "execution_count": 4,
   "metadata": {},
   "outputs": [
    {
     "name": "stdout",
     "output_type": "stream",
     "text": [
      "<class 'pandas.core.frame.DataFrame'>\n",
      "RangeIndex: 69186 entries, 0 to 69185\n",
      "Data columns (total 12 columns):\n",
      "route_id                 69186 non-null object\n",
      "service_id               69186 non-null object\n",
      "trip_id                  69186 non-null object\n",
      "trip_headsign            69186 non-null object\n",
      "trip_short_name          1271 non-null object\n",
      "direction_id             69186 non-null int64\n",
      "block_id                 67915 non-null object\n",
      "shape_id                 69186 non-null object\n",
      "wheelchair_accessible    69186 non-null int64\n",
      "trip_route_type          1672 non-null float64\n",
      "route_pattern_id         69186 non-null object\n",
      "bikes_allowed            69186 non-null int64\n",
      "dtypes: float64(1), int64(3), object(8)\n",
      "memory usage: 6.3+ MB\n"
     ]
    }
   ],
   "source": [
    "df_trips.info()"
   ]
  },
  {
   "cell_type": "code",
   "execution_count": null,
   "metadata": {},
   "outputs": [],
   "source": []
  }
 ],
 "metadata": {
  "kernelspec": {
   "display_name": "Python 3",
   "language": "python",
   "name": "python3"
  },
  "language_info": {
   "codemirror_mode": {
    "name": "ipython",
    "version": 3
   },
   "file_extension": ".py",
   "mimetype": "text/x-python",
   "name": "python",
   "nbconvert_exporter": "python",
   "pygments_lexer": "ipython3",
   "version": "3.7.4"
  }
 },
 "nbformat": 4,
 "nbformat_minor": 2
}
