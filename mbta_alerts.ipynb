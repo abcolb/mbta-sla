{
 "cells": [
  {
   "cell_type": "code",
   "execution_count": 1,
   "metadata": {},
   "outputs": [],
   "source": [
    "import json\n",
    "import requests\n",
    "import pandas as pd\n",
    "from datetime import datetime\n",
    "import numpy as np\n",
    "import matplotlib.pyplot as plt\n",
    "import seaborn as sns"
   ]
  },
  {
   "cell_type": "code",
   "execution_count": 2,
   "metadata": {},
   "outputs": [],
   "source": [
    "# color-blind friendly color configuration based on ggplot\n",
    "color_list = [\"#E69F00\", \"#56B4E9\", \"#009E73\", \"#F0E442\", \"#D55E00\", \"#0072B2\",  \"#CC79A7\"]"
   ]
  },
  {
   "cell_type": "markdown",
   "metadata": {},
   "source": [
    "### Make MBTA API request"
   ]
  },
  {
   "cell_type": "code",
   "execution_count": 3,
   "metadata": {},
   "outputs": [
    {
     "name": "stdout",
     "output_type": "stream",
     "text": [
      "Fetched page 20 with offset 0\n",
      "Fetched page 20 with offset 20\n",
      "Fetched page 20 with offset 40\n",
      "Fetched page 20 with offset 60\n",
      "Fetched page 20 with offset 80\n",
      "Fetched page 20 with offset 100\n",
      "Fetched page 20 with offset 120\n",
      "Fetched page 20 with offset 140\n",
      "Fetched page 20 with offset 160\n",
      "Fetched page 20 with offset 180\n"
     ]
    }
   ],
   "source": [
    "CLIENT_KEY = ''\n",
    "\n",
    "fetched = []\n",
    "\n",
    "offset = 0\n",
    "page = 20\n",
    "total = 200 # over 10000000 rows\n",
    "\n",
    "while offset <= total - page:\n",
    "    url = \"https://api-v3.mbta.com/alerts?page%5Boffset%5D={}&page%5Blimit%5D={}&filter%5Bactivity%5D=BOARD%2CEXIT%2CRIDE&api_key={}\".format(offset, page, CLIENT_KEY)\n",
    "    try:\n",
    "        results = requests.get(url).json()\n",
    "        print('Fetched page {} with offset {}'.format(page, offset))\n",
    "\n",
    "        fetched += [d['attributes'] for d in results['data']]\n",
    "        offset += page\n",
    "    except json.decoder.JSONDecodeError as err:\n",
    "        print('API error: {}'.format(err))\n",
    "        offset = total"
   ]
  },
  {
   "cell_type": "code",
   "execution_count": 42,
   "metadata": {},
   "outputs": [
    {
     "data": {
      "text/html": [
       "<div>\n",
       "<style scoped>\n",
       "    .dataframe tbody tr th:only-of-type {\n",
       "        vertical-align: middle;\n",
       "    }\n",
       "\n",
       "    .dataframe tbody tr th {\n",
       "        vertical-align: top;\n",
       "    }\n",
       "\n",
       "    .dataframe thead th {\n",
       "        text-align: right;\n",
       "    }\n",
       "</style>\n",
       "<table border=\"1\" class=\"dataframe\">\n",
       "  <thead>\n",
       "    <tr style=\"text-align: right;\">\n",
       "      <th></th>\n",
       "      <th>description</th>\n",
       "      <th>cause</th>\n",
       "      <th>created_at</th>\n",
       "      <th>effect</th>\n",
       "      <th>severity</th>\n",
       "      <th>route</th>\n",
       "      <th>route_type</th>\n",
       "    </tr>\n",
       "  </thead>\n",
       "  <tbody>\n",
       "    <tr>\n",
       "      <td>0</td>\n",
       "      <td>This change is part of the second round of Bet...</td>\n",
       "      <td>UNKNOWN_CAUSE</td>\n",
       "      <td>2019-11-15T14:41:38-05:00</td>\n",
       "      <td>SERVICE_CHANGE</td>\n",
       "      <td>10</td>\n",
       "      <td>225</td>\n",
       "      <td>3</td>\n",
       "    </tr>\n",
       "    <tr>\n",
       "      <td>1</td>\n",
       "      <td>For Clarendon Hill, connections can be made at...</td>\n",
       "      <td>UNKNOWN_CAUSE</td>\n",
       "      <td>2019-05-03T12:48:53-04:00</td>\n",
       "      <td>SERVICE_CHANGE</td>\n",
       "      <td>7</td>\n",
       "      <td>89</td>\n",
       "      <td>3</td>\n",
       "    </tr>\n",
       "    <tr>\n",
       "      <td>2</td>\n",
       "      <td>Affected stops:\\r\\nBow St @ Warren Ave\\r\\n51 B...</td>\n",
       "      <td>UNKNOWN_CAUSE</td>\n",
       "      <td>2019-12-27T11:45:12-05:00</td>\n",
       "      <td>DETOUR</td>\n",
       "      <td>1</td>\n",
       "      <td>85</td>\n",
       "      <td>3</td>\n",
       "    </tr>\n",
       "    <tr>\n",
       "      <td>3</td>\n",
       "      <td>Signs will be placed around the facility to di...</td>\n",
       "      <td>UNKNOWN_CAUSE</td>\n",
       "      <td>2019-10-02T18:58:29-04:00</td>\n",
       "      <td>STATION_ISSUE</td>\n",
       "      <td>1</td>\n",
       "      <td>Red</td>\n",
       "      <td>1</td>\n",
       "    </tr>\n",
       "    <tr>\n",
       "      <td>4</td>\n",
       "      <td>Affecting:\\r\\n120</td>\n",
       "      <td>UNKNOWN_CAUSE</td>\n",
       "      <td>2019-12-06T22:18:22-05:00</td>\n",
       "      <td>SERVICE_CHANGE</td>\n",
       "      <td>10</td>\n",
       "      <td>120</td>\n",
       "      <td>3</td>\n",
       "    </tr>\n",
       "    <tr>\n",
       "      <td>...</td>\n",
       "      <td>...</td>\n",
       "      <td>...</td>\n",
       "      <td>...</td>\n",
       "      <td>...</td>\n",
       "      <td>...</td>\n",
       "      <td>...</td>\n",
       "      <td>...</td>\n",
       "    </tr>\n",
       "    <tr>\n",
       "      <td>85</td>\n",
       "      <td>Affecting:\\r\\n216</td>\n",
       "      <td>UNKNOWN_CAUSE</td>\n",
       "      <td>2019-12-06T22:32:56-05:00</td>\n",
       "      <td>SERVICE_CHANGE</td>\n",
       "      <td>10</td>\n",
       "      <td>214216</td>\n",
       "      <td>3</td>\n",
       "    </tr>\n",
       "    <tr>\n",
       "      <td>86</td>\n",
       "      <td>This change is part of the second round of Bet...</td>\n",
       "      <td>UNKNOWN_CAUSE</td>\n",
       "      <td>2019-11-15T14:57:33-05:00</td>\n",
       "      <td>SERVICE_CHANGE</td>\n",
       "      <td>10</td>\n",
       "      <td>71</td>\n",
       "      <td>3</td>\n",
       "    </tr>\n",
       "    <tr>\n",
       "      <td>87</td>\n",
       "      <td>Learn more at MBTA.com/betterbus\\r\\n\\r\\nAffect...</td>\n",
       "      <td>UNKNOWN_CAUSE</td>\n",
       "      <td>2019-12-06T16:28:46-05:00</td>\n",
       "      <td>STOP_MOVE</td>\n",
       "      <td>1</td>\n",
       "      <td>52</td>\n",
       "      <td>3</td>\n",
       "    </tr>\n",
       "    <tr>\n",
       "      <td>88</td>\n",
       "      <td>None</td>\n",
       "      <td>UNKNOWN_CAUSE</td>\n",
       "      <td>2019-12-27T15:06:29-05:00</td>\n",
       "      <td>SERVICE_CHANGE</td>\n",
       "      <td>10</td>\n",
       "      <td>CR-Fairmount</td>\n",
       "      <td>2</td>\n",
       "    </tr>\n",
       "    <tr>\n",
       "      <td>89</td>\n",
       "      <td>Affecting:\\r\\n503</td>\n",
       "      <td>UNKNOWN_CAUSE</td>\n",
       "      <td>2019-12-06T22:09:02-05:00</td>\n",
       "      <td>SERVICE_CHANGE</td>\n",
       "      <td>10</td>\n",
       "      <td>503</td>\n",
       "      <td>3</td>\n",
       "    </tr>\n",
       "  </tbody>\n",
       "</table>\n",
       "<p>90 rows × 7 columns</p>\n",
       "</div>"
      ],
      "text/plain": [
       "                                          description          cause  \\\n",
       "0   This change is part of the second round of Bet...  UNKNOWN_CAUSE   \n",
       "1   For Clarendon Hill, connections can be made at...  UNKNOWN_CAUSE   \n",
       "2   Affected stops:\\r\\nBow St @ Warren Ave\\r\\n51 B...  UNKNOWN_CAUSE   \n",
       "3   Signs will be placed around the facility to di...  UNKNOWN_CAUSE   \n",
       "4                                   Affecting:\\r\\n120  UNKNOWN_CAUSE   \n",
       "..                                                ...            ...   \n",
       "85                                  Affecting:\\r\\n216  UNKNOWN_CAUSE   \n",
       "86  This change is part of the second round of Bet...  UNKNOWN_CAUSE   \n",
       "87  Learn more at MBTA.com/betterbus\\r\\n\\r\\nAffect...  UNKNOWN_CAUSE   \n",
       "88                                               None  UNKNOWN_CAUSE   \n",
       "89                                  Affecting:\\r\\n503  UNKNOWN_CAUSE   \n",
       "\n",
       "                   created_at          effect  severity         route  \\\n",
       "0   2019-11-15T14:41:38-05:00  SERVICE_CHANGE        10           225   \n",
       "1   2019-05-03T12:48:53-04:00  SERVICE_CHANGE         7            89   \n",
       "2   2019-12-27T11:45:12-05:00          DETOUR         1            85   \n",
       "3   2019-10-02T18:58:29-04:00   STATION_ISSUE         1           Red   \n",
       "4   2019-12-06T22:18:22-05:00  SERVICE_CHANGE        10           120   \n",
       "..                        ...             ...       ...           ...   \n",
       "85  2019-12-06T22:32:56-05:00  SERVICE_CHANGE        10        214216   \n",
       "86  2019-11-15T14:57:33-05:00  SERVICE_CHANGE        10            71   \n",
       "87  2019-12-06T16:28:46-05:00       STOP_MOVE         1            52   \n",
       "88  2019-12-27T15:06:29-05:00  SERVICE_CHANGE        10  CR-Fairmount   \n",
       "89  2019-12-06T22:09:02-05:00  SERVICE_CHANGE        10           503   \n",
       "\n",
       "    route_type  \n",
       "0            3  \n",
       "1            3  \n",
       "2            3  \n",
       "3            1  \n",
       "4            3  \n",
       "..         ...  \n",
       "85           3  \n",
       "86           3  \n",
       "87           3  \n",
       "88           2  \n",
       "89           3  \n",
       "\n",
       "[90 rows x 7 columns]"
      ]
     },
     "execution_count": 42,
     "metadata": {},
     "output_type": "execute_result"
    }
   ],
   "source": [
    "df = pd.DataFrame(data=fetched, columns=['description', 'cause', 'created_at', 'effect', 'informed_entity', 'severity']) #, delim_whitespace=True)\n",
    "df['route'] = df['informed_entity'].apply(lambda x: x[0]['route'])\n",
    "df['route_type'] = df['informed_entity'].apply(lambda x: x[0]['route_type'])\n",
    "df.drop('informed_entity', axis=1, inplace=True)\n",
    "df"
   ]
  },
  {
   "cell_type": "code",
   "execution_count": 47,
   "metadata": {},
   "outputs": [
    {
     "data": {
      "text/plain": [
       "CR-Worcester    9\n",
       "64              5\n",
       "52              4\n",
       "87              3\n",
       "201             2\n",
       "               ..\n",
       "747             1\n",
       "350             1\n",
       "CR-Fairmount    1\n",
       "42              1\n",
       "29              1\n",
       "Name: route, Length: 61, dtype: int64"
      ]
     },
     "execution_count": 47,
     "metadata": {},
     "output_type": "execute_result"
    }
   ],
   "source": [
    "df['route'].value_counts(dropna=False)"
   ]
  },
  {
   "cell_type": "code",
   "execution_count": 49,
   "metadata": {},
   "outputs": [
    {
     "data": {
      "text/plain": [
       "description    object\n",
       "cause          object\n",
       "created_at     object\n",
       "effect         object\n",
       "severity        int64\n",
       "route          object\n",
       "route_type      int64\n",
       "dtype: object"
      ]
     },
     "execution_count": 49,
     "metadata": {},
     "output_type": "execute_result"
    }
   ],
   "source": [
    "# df.set_index('', drop=True)\n",
    "df.dtypes"
   ]
  },
  {
   "cell_type": "code",
   "execution_count": null,
   "metadata": {},
   "outputs": [],
   "source": [
    "# cleaned_df['service_time_int'] = cleaned_df.service_time.astype(np.int64)\n",
    "cleaned_df.loc[:,'service_time_int'] = cleaned_df.service_time.astype(np.int64)\n",
    "\n",
    "fig, ax = plt.subplots(figsize=(10,6))\n",
    "cleaned_df.plot(kind='scatter', x='service_time_int', y='station_entries', ax=ax)\n",
    "ax.set_xticklabels([datetime.fromtimestamp(ts / 1e9).strftime('%D %H:%M:%S') for ts in ax.get_xticks()])\n",
    "ax.set_xlabel('Service time')\n",
    "ax.set_ylabel('Num entries')\n",
    "plt.show()"
   ]
  }
 ],
 "metadata": {
  "kernelspec": {
   "display_name": "Python 3",
   "language": "python",
   "name": "python3"
  },
  "language_info": {
   "codemirror_mode": {
    "name": "ipython",
    "version": 3
   },
   "file_extension": ".py",
   "mimetype": "text/x-python",
   "name": "python",
   "nbconvert_exporter": "python",
   "pygments_lexer": "ipython3",
   "version": "3.7.4"
  }
 },
 "nbformat": 4,
 "nbformat_minor": 2
}
