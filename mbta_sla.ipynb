{
 "cells": [
  {
   "cell_type": "code",
   "execution_count": 10,
   "metadata": {},
   "outputs": [],
   "source": [
    "import json\n",
    "import requests\n",
    "import pandas as pd\n",
    "from datetime import datetime\n",
    "import numpy as np\n",
    "import matplotlib.pyplot as plt\n",
    "import seaborn as sns"
   ]
  },
  {
   "cell_type": "code",
   "execution_count": 2,
   "metadata": {},
   "outputs": [],
   "source": [
    "# color-blind friendly color configuration based on ggplot\n",
    "color_list = [\"#E69F00\", \"#56B4E9\", \"#009E73\", \"#F0E442\", \"#D55E00\", \"#0072B2\",  \"#CC79A7\"]"
   ]
  },
  {
   "cell_type": "markdown",
   "metadata": {},
   "source": [
    "### Make MBTA API request"
   ]
  },
  {
   "cell_type": "code",
   "execution_count": 11,
   "metadata": {},
   "outputs": [
    {
     "name": "stdout",
     "output_type": "stream",
     "text": [
      "https://services1.arcgis.com/ceiitspzDAHrdGO1/arcgis/rest/services/GatedStationEntries/FeatureServer/0/query&f=json&outFields=*&where=1=1&resultOffset=0&resultRecordCount=2000\n",
      "API error: Expecting value: line 1 column 1 (char 0)\n"
     ]
    },
    {
     "data": {
      "text/html": [
       "<div>\n",
       "<style scoped>\n",
       "    .dataframe tbody tr th:only-of-type {\n",
       "        vertical-align: middle;\n",
       "    }\n",
       "\n",
       "    .dataframe tbody tr th {\n",
       "        vertical-align: top;\n",
       "    }\n",
       "\n",
       "    .dataframe thead th {\n",
       "        text-align: right;\n",
       "    }\n",
       "</style>\n",
       "<table border=\"1\" class=\"dataframe\">\n",
       "  <thead>\n",
       "    <tr style=\"text-align: right;\">\n",
       "      <th></th>\n",
       "      <th>station_name</th>\n",
       "      <th>stop_id</th>\n",
       "      <th>service_date</th>\n",
       "      <th>time_period</th>\n",
       "      <th>station_entries</th>\n",
       "      <th>ObjectId</th>\n",
       "    </tr>\n",
       "  </thead>\n",
       "  <tbody>\n",
       "  </tbody>\n",
       "</table>\n",
       "</div>"
      ],
      "text/plain": [
       "Empty DataFrame\n",
       "Columns: [station_name, stop_id, service_date, time_period, station_entries, ObjectId]\n",
       "Index: []"
      ]
     },
     "execution_count": 11,
     "metadata": {},
     "output_type": "execute_result"
    }
   ],
   "source": [
    "CLIENT_KEY = '26e129e96c2249cc8478881689ee208c'\n",
    "\n",
    "# url = 'https://opendata.arcgis.com/datasets/d9966f318b924c0399eebe475f9cdcfd_0.geojson'\n",
    "\n",
    "fetched = []\n",
    "\n",
    "offset = 0\n",
    "page = 2000\n",
    "\n",
    "total = 2500 # over 10000000 rows\n",
    "\n",
    "while offset <= total - page:\n",
    "    url = \"https://services1.arcgis.com/ceiitspzDAHrdGO1/arcgis/rest/services/GatedStationEntries/FeatureServer/0/query&f=json&outFields=*&where=1=1&resultOffset={}&resultRecordCount={}\".format(offset, page)\n",
    "    print(url)\n",
    "    try:\n",
    "        results = requests.get(url, headers={'x-api-key':'26e129e96c2249cc8478881689ee208c'}).json()\n",
    "        print(results)\n",
    "\n",
    "    #     fetched += [feature['attributes'] for feature in results['features']]\n",
    "        offset += page\n",
    "    #     print(offset)\n",
    "    except json.decoder.JSONDecodeError as err:\n",
    "        print('API error: {}'.format(err))\n",
    "        offset = total\n",
    "    \n",
    "df = pd.DataFrame(data=fetched, columns=['station_name', 'stop_id', 'service_date', 'time_period', 'station_entries', 'ObjectId']) #, delim_whitespace=True)\n",
    "df.head()"
   ]
  },
  {
   "cell_type": "code",
   "execution_count": 12,
   "metadata": {},
   "outputs": [
    {
     "name": "stdout",
     "output_type": "stream",
     "text": [
      "> \u001b[0;32m<ipython-input-9-b6a317f794ed>\u001b[0m(25)\u001b[0;36m<module>\u001b[0;34m()\u001b[0m\n",
      "\u001b[0;32m     23 \u001b[0;31m        \u001b[0moffset\u001b[0m \u001b[0;34m+=\u001b[0m \u001b[0mpage\u001b[0m\u001b[0;34m\u001b[0m\u001b[0;34m\u001b[0m\u001b[0m\n",
      "\u001b[0m\u001b[0;32m     24 \u001b[0;31m    \u001b[0;31m#     print(offset)\u001b[0m\u001b[0;34m\u001b[0m\u001b[0;34m\u001b[0m\u001b[0;34m\u001b[0m\u001b[0m\n",
      "\u001b[0m\u001b[0;32m---> 25 \u001b[0;31m    \u001b[0;32mexcept\u001b[0m \u001b[0mJSONDecodeError\u001b[0m\u001b[0;34m:\u001b[0m\u001b[0;34m\u001b[0m\u001b[0;34m\u001b[0m\u001b[0m\n",
      "\u001b[0m\u001b[0;32m     26 \u001b[0;31m        \u001b[0mprint\u001b[0m\u001b[0;34m(\u001b[0m\u001b[0;34m'API error: {}'\u001b[0m\u001b[0;34m.\u001b[0m\u001b[0mformat\u001b[0m\u001b[0;34m(\u001b[0m\u001b[0mJSONDecodeError\u001b[0m\u001b[0;34m)\u001b[0m\u001b[0;34m)\u001b[0m\u001b[0;34m\u001b[0m\u001b[0;34m\u001b[0m\u001b[0m\n",
      "\u001b[0m\u001b[0;32m     27 \u001b[0;31m        \u001b[0moffset\u001b[0m \u001b[0;34m=\u001b[0m \u001b[0mtotal\u001b[0m\u001b[0;34m\u001b[0m\u001b[0;34m\u001b[0m\u001b[0m\n",
      "\u001b[0m\n",
      "ipdb> quit()\n"
     ]
    }
   ],
   "source": [
    "%debug"
   ]
  },
  {
   "cell_type": "code",
   "execution_count": null,
   "metadata": {},
   "outputs": [],
   "source": [
    "# combine time_period and service_date\n",
    "\n",
    "df['service_date'] =  pd.to_datetime(df['service_date'], unit='ms')\n",
    "# time_period is an integer marking the start of the 15-minute time-delta\n",
    "df['time_period'] = df['time_period']//100 * 60 + df['time_period'] % 100\n",
    "df['service_timedelta'] = pd.to_timedelta(df['time_period'], unit='min')\n",
    "df['service_time'] = df['service_date'] + df['service_timedelta']\n",
    "df.head()"
   ]
  },
  {
   "cell_type": "code",
   "execution_count": null,
   "metadata": {},
   "outputs": [],
   "source": [
    "cleaned_df = df[['service_time', 'station_name', 'station_entries']]\n",
    "cleaned_df.head()"
   ]
  },
  {
   "cell_type": "code",
   "execution_count": null,
   "metadata": {},
   "outputs": [],
   "source": [
    "# cleaned_df['service_time_int'] = cleaned_df.service_time.astype(np.int64)\n",
    "cleaned_df.loc[:,'service_time_int'] = cleaned_df.service_time.astype(np.int64)\n",
    "\n",
    "fig, ax = plt.subplots(figsize=(10,6))\n",
    "cleaned_df.plot(kind='scatter', x='service_time_int', y='station_entries', ax=ax)\n",
    "ax.set_xticklabels([datetime.fromtimestamp(ts / 1e9).strftime('%D %H:%M:%S') for ts in ax.get_xticks()])\n",
    "ax.set_xlabel('Service time')\n",
    "ax.set_ylabel('Num entries')\n",
    "plt.show()"
   ]
  },
  {
   "cell_type": "markdown",
   "metadata": {},
   "source": [
    "### Summary statistics"
   ]
  },
  {
   "cell_type": "code",
   "execution_count": null,
   "metadata": {},
   "outputs": [],
   "source": [
    "cleaned_df.info()"
   ]
  },
  {
   "cell_type": "code",
   "execution_count": null,
   "metadata": {},
   "outputs": [],
   "source": [
    "cleaned_df.dropna(inplace=True)\n",
    "cleaned_df.shape"
   ]
  },
  {
   "cell_type": "code",
   "execution_count": null,
   "metadata": {},
   "outputs": [],
   "source": [
    "# cleaned_df.drop(['service_time_int'], axis=1, inplace=True)\n",
    "\n",
    "cleaned_df.set_index('service_time', inplace=True)\n",
    "\n",
    "# time_indexed_df = cleaned_df.groupby(['service_time'], axis=1).reset_index()\n",
    "cleaned_df.head()"
   ]
  },
  {
   "cell_type": "code",
   "execution_count": null,
   "metadata": {},
   "outputs": [],
   "source": [
    "cleaned_df.head()"
   ]
  },
  {
   "cell_type": "code",
   "execution_count": null,
   "metadata": {},
   "outputs": [],
   "source": [
    "cleaned_df.shape"
   ]
  },
  {
   "cell_type": "code",
   "execution_count": null,
   "metadata": {},
   "outputs": [],
   "source": [
    "# cleaned_df.loc[:,'service_year'] = cleaned_df['service_time'].dt.strftime('%Y')\n",
    "cleaned_df.loc[:,'service_month'] = cleaned_df['service_time'].dt.strftime('%B')\n",
    "cleaned_df.loc[:,'service_weekday'] = cleaned_df['service_time'].dt.strftime('%A')\n",
    "# cleaned_df.loc[:,'service_month'] = cleaned_df.service_time.month\n",
    "# cleaned_df.loc[:,'service_weekday'] = cleaned_df.service_time.weekday_name"
   ]
  },
  {
   "cell_type": "code",
   "execution_count": null,
   "metadata": {},
   "outputs": [],
   "source": [
    "cleaned_df.head()"
   ]
  },
  {
   "cell_type": "code",
   "execution_count": null,
   "metadata": {},
   "outputs": [],
   "source": [
    "# monthly totals per station\n",
    "\n",
    "monthly_df = cleaned_df.loc[:, ['station_entries', 'station_name', 'service_weekday']]\n",
    "grouped_monthly_df = monthly_df.groupby(['service_weekday', 'station_name']).sum().reset_index()\n",
    "# grouped_monthly_df = monthly_df.groupby('service_weekday').agg({'station_entries' : 'sum',\n",
    "#                      'station_name' : lambda x: x.iloc[0]})\n",
    "grouped_monthly_df.head()\n",
    "\n",
    "ordered_days = ['Sunday', 'Monday', 'Tuesday', 'Wednesday', 'Thursday', 'Friday', 'Saturday']\n",
    "grouped_monthly_df['service_weekday'] = pd.Categorical(grouped_monthly_df['service_weekday'], categories=ordered_days, ordered=True)\n",
    "grouped_monthly_df = grouped_monthly_df.sort_values('service_weekday')\n",
    "\n",
    "ax = sns.boxplot(data=grouped_monthly_df, x='service_weekday', y='station_entries', color=\"lightsteelblue\")\n",
    "ax.set_xlabel('Service weekday')\n",
    "ax.set_ylabel('Station entries')\n",
    "ax.set_title('Station entries by weekday')\n",
    "\n",
    "# Add transparency to colors\n",
    "for patch in ax.artists:\n",
    " r, g, b, a = patch.get_facecolor()\n",
    " patch.set_facecolor((r, g, b, .7))"
   ]
  },
  {
   "cell_type": "code",
   "execution_count": null,
   "metadata": {},
   "outputs": [],
   "source": [
    "grouped_monthly_df.head(10)"
   ]
  },
  {
   "cell_type": "code",
   "execution_count": null,
   "metadata": {},
   "outputs": [],
   "source": [
    "grouped_monthly_df.columns"
   ]
  },
  {
   "cell_type": "code",
   "execution_count": null,
   "metadata": {},
   "outputs": [],
   "source": [
    "# if I reindex to datetime, things solve themselves"
   ]
  }
 ],
 "metadata": {
  "kernelspec": {
   "display_name": "Python 3",
   "language": "python",
   "name": "python3"
  },
  "language_info": {
   "codemirror_mode": {
    "name": "ipython",
    "version": 3
   },
   "file_extension": ".py",
   "mimetype": "text/x-python",
   "name": "python",
   "nbconvert_exporter": "python",
   "pygments_lexer": "ipython3",
   "version": "3.7.4"
  }
 },
 "nbformat": 4,
 "nbformat_minor": 2
}
